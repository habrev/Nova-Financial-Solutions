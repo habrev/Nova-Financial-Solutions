{
 "cells": [
  {
   "cell_type": "code",
   "execution_count": 1,
   "metadata": {},
   "outputs": [
    {
     "ename": "ValueError",
     "evalue": "numpy.dtype size changed, may indicate binary incompatibility. Expected 96 from C header, got 88 from PyObject",
     "output_type": "error",
     "traceback": [
      "\u001b[0;31m---------------------------------------------------------------------------\u001b[0m",
      "\u001b[0;31mValueError\u001b[0m                                Traceback (most recent call last)",
      "Cell \u001b[0;32mIn[1], line 1\u001b[0m\n\u001b[0;32m----> 1\u001b[0m \u001b[38;5;28;01mimport\u001b[39;00m \u001b[38;5;21;01mtalib\u001b[39;00m\n\u001b[1;32m      2\u001b[0m \u001b[38;5;28mprint\u001b[39m(talib\u001b[38;5;241m.\u001b[39mget_functions())\n",
      "File \u001b[0;32m~/Desktop/KAIM/Week 1/task-2/Nova-Financial-Solutions/.venv/lib/python3.10/site-packages/talib/__init__.py:109\u001b[0m\n\u001b[1;32m    105\u001b[0m \u001b[38;5;28;01melse\u001b[39;00m:\n\u001b[1;32m    106\u001b[0m     _wrapper \u001b[38;5;241m=\u001b[39m \u001b[38;5;28;01mlambda\u001b[39;00m x: x\n\u001b[0;32m--> 109\u001b[0m \u001b[38;5;28;01mfrom\u001b[39;00m \u001b[38;5;21;01m.\u001b[39;00m\u001b[38;5;21;01m_ta_lib\u001b[39;00m \u001b[38;5;28;01mimport\u001b[39;00m (\n\u001b[1;32m    110\u001b[0m     _ta_initialize, _ta_shutdown, MA_Type, __ta_version__,\n\u001b[1;32m    111\u001b[0m     _ta_set_unstable_period \u001b[38;5;28;01mas\u001b[39;00m set_unstable_period,\n\u001b[1;32m    112\u001b[0m     _ta_get_unstable_period \u001b[38;5;28;01mas\u001b[39;00m get_unstable_period,\n\u001b[1;32m    113\u001b[0m     _ta_set_compatibility \u001b[38;5;28;01mas\u001b[39;00m set_compatibility,\n\u001b[1;32m    114\u001b[0m     _ta_get_compatibility \u001b[38;5;28;01mas\u001b[39;00m get_compatibility,\n\u001b[1;32m    115\u001b[0m     __TA_FUNCTION_NAMES__\n\u001b[1;32m    116\u001b[0m )\n\u001b[1;32m    118\u001b[0m \u001b[38;5;66;03m# import all the func and stream functions\u001b[39;00m\n\u001b[1;32m    119\u001b[0m \u001b[38;5;28;01mfrom\u001b[39;00m \u001b[38;5;21;01m.\u001b[39;00m\u001b[38;5;21;01m_ta_lib\u001b[39;00m \u001b[38;5;28;01mimport\u001b[39;00m \u001b[38;5;241m*\u001b[39m\n",
      "File \u001b[0;32m~/Desktop/KAIM/Week 1/task-2/Nova-Financial-Solutions/.venv/lib/python3.10/site-packages/talib/_ta_lib.pyx:1\u001b[0m, in \u001b[0;36minit talib._ta_lib\u001b[0;34m()\u001b[0m\n",
      "\u001b[0;31mValueError\u001b[0m: numpy.dtype size changed, may indicate binary incompatibility. Expected 96 from C header, got 88 from PyObject"
     ]
    }
   ],
   "source": [
    "import talib\n",
    "print(talib.get_functions())\n"
   ]
  }
 ],
 "metadata": {
  "kernelspec": {
   "display_name": ".venv",
   "language": "python",
   "name": "python3"
  },
  "language_info": {
   "codemirror_mode": {
    "name": "ipython",
    "version": 3
   },
   "file_extension": ".py",
   "mimetype": "text/x-python",
   "name": "python",
   "nbconvert_exporter": "python",
   "pygments_lexer": "ipython3",
   "version": "3.10.12"
  }
 },
 "nbformat": 4,
 "nbformat_minor": 2
}
